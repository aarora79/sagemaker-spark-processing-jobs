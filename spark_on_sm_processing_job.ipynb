{
 "cells": [
  {
   "cell_type": "markdown",
   "metadata": {},
   "source": [
    "# Processing large datasets with Apache Spark and Amazon SageMaker\n",
    "\n",
    "***This notebook run on `Python 3` kernel on a `ml.r5.xlarge` instance***."
   ]
  },
  {
   "cell_type": "markdown",
   "metadata": {},
   "source": [
    "Amazon SageMaker Processing Jobs are used  to analyze data and evaluate machine learning models on Amazon SageMaker. With Processing, you can use a simplified, managed experience on SageMaker to run your data processing workloads, such as feature engineering, data validation, model evaluation, and model interpretation. You can also use the Amazon SageMaker Processing APIs during the experimentation phase and after the code is deployed in production to evaluate performance.\n",
    "\n",
    "        \n"
   ]
  },
  {
   "cell_type": "markdown",
   "metadata": {},
   "source": [
    "![](https://docs.aws.amazon.com/images/sagemaker/latest/dg/images/Processing-1.png)"
   ]
  },
  {
   "cell_type": "markdown",
   "metadata": {},
   "source": [
    "The preceding diagram shows how Amazon SageMaker spins up a Processing job. Amazon SageMaker takes your script, copies your data from Amazon Simple Storage Service (Amazon S3), and then pulls a processing container. The processing container image can either be an Amazon SageMaker built-in image or a custom image that you provide. The underlying infrastructure for a Processing job is fully managed by Amazon SageMaker. Cluster resources are provisioned for the duration of your job, and cleaned up when a job completes. The output of the Processing job is stored in the Amazon S3 bucket you specified."
   ]
  },
  {
   "cell_type": "markdown",
   "metadata": {},
   "source": [
    "## Our workflow for processing large amounts of data with SageMaker\n",
    "\n",
    "We can divide our workflow into two steps:\n",
    "    \n",
    "1. Work with a small subset of the data with Spark running in local model in a SageMaker Studio Notebook.\n",
    "\n",
    "1. Once we are able to work with the small subset of data we can provide the same code (as a Python script rather than a series of interactive steps) to SageMaker Processing which launched a Spark cluster, runs out code and terminates the cluster."
   ]
  },
  {
   "cell_type": "markdown",
   "metadata": {},
   "source": [
    "## In this notebook...\n",
    "\n",
    "We will process the [Common Crawl](https://registry.opendata.aws/commoncrawl/) dataset made available by AWS on S3. The Common Crawl dataset is a corpus of web crawl data composed of over 50 billion web pages.\n",
    "\n",
    "1. We will first read a small subset of the data locally. This would be the common crawl index file `s3://commoncrawl/cc-index/table/cc-main/warc/crawl=CC-MAIN-2023-06/subset=warc/part-00260-b5ddf469-bf28-43c4-9c36-5b5ccc3b2bf1.c000.gz.parquet` and do some analytics on it such as counting the number of rows, finding out number of web site hits per hour, top domains by count, top languages for web pages etc. This dataset is about 8 million rows. We will run this operation locally using spark in this notebook.\n",
    "\n",
    "1. We will then repeat the same operation on all files in the `s3://commoncrawl/cc-index/table/cc-main/warc/crawl=CC-MAIN-2023-06/subset=warc/` prefix. This dataset is about 3 billion rows. This operation is too big to be run on a `ml.t3.large` instance (2 vCPU, 8GB RAM) so we will run this on 2 machines of `ml.m5.xlarge` instance type (4 vCPUs, 16GB RAM)."
   ]
  },
  {
   "cell_type": "markdown",
   "metadata": {},
   "source": [
    "## Setup\n",
    "We need an available Java installation to run pyspark. The easiest way to do this is to install JDK and set the proper paths using conda"
   ]
  },
  {
   "cell_type": "code",
   "execution_count": 1,
   "metadata": {
    "tags": []
   },
   "outputs": [
    {
     "name": "stdout",
     "output_type": "stream",
     "text": [
      "Retrieving notices: ...working... done\n",
      "\n",
      "Downloading and Extracting Packages:\n",
      "\n",
      "Preparing transaction: done\n",
      "Verifying transaction: done\n",
      "Executing transaction: done\n",
      "\n",
      "Note: you may need to restart the kernel to use updated packages.\n",
      "Requirement already satisfied: pyspark==3.4.0 in /opt/conda/lib/python3.10/site-packages (3.4.0)\n",
      "Requirement already satisfied: py4j==0.10.9.7 in /opt/conda/lib/python3.10/site-packages (from pyspark==3.4.0) (0.10.9.7)\n",
      "Note: you may need to restart the kernel to use updated packages.\n"
     ]
    },
    {
     "data": {
      "text/html": [
       "<script>Jupyter.notebook.kernel.restart()</script>"
      ],
      "text/plain": [
       "<IPython.core.display.HTML object>"
      ]
     },
     "execution_count": 1,
     "metadata": {},
     "output_type": "execute_result"
    }
   ],
   "source": [
    "# Setup - Run only once per Kernel App\n",
    "%conda install https://anaconda.org/conda-forge/openjdk/11.0.1/download/linux-64/openjdk-11.0.1-hacce0ff_1021.tar.bz2\n",
    "\n",
    "# install PySpark\n",
    "%pip install pyspark==3.4.0\n",
    "\n",
    "# restart kernel\n",
    "from IPython.core.display import HTML\n",
    "HTML(\"<script>Jupyter.notebook.kernel.restart()</script>\")"
   ]
  },
  {
   "cell_type": "markdown",
   "metadata": {},
   "source": [
    "## Utilize S3 Data within local PySpark\n",
    "* By specifying the `hadoop-aws` jar in our Spark config we're able to access S3 datasets using the s3a file prefix. \n",
    "* Since we've already authenticated ourself to SageMaker Studio , we can use our assumed SageMaker ExecutionRole for any S3 reads/writes by setting the credential provider as `ContainerCredentialsProvider`"
   ]
  },
  {
   "cell_type": "code",
   "execution_count": 2,
   "metadata": {
    "tags": []
   },
   "outputs": [
    {
     "name": "stderr",
     "output_type": "stream",
     "text": [
      "Warning: Ignoring non-Spark config property: fs.s3a.aws.credentials.provider\n"
     ]
    },
    {
     "name": "stdout",
     "output_type": "stream",
     "text": [
      ":: loading settings :: url = jar:file:/opt/conda/lib/python3.10/site-packages/pyspark/jars/ivy-2.5.1.jar!/org/apache/ivy/core/settings/ivysettings.xml\n"
     ]
    },
    {
     "name": "stderr",
     "output_type": "stream",
     "text": [
      "Ivy Default Cache set to: /home/sagemaker-user/.ivy2/cache\n",
      "The jars for the packages stored in: /home/sagemaker-user/.ivy2/jars\n",
      "org.apache.hadoop#hadoop-aws added as a dependency\n",
      ":: resolving dependencies :: org.apache.spark#spark-submit-parent-664ac2b9-8a1c-4f4e-a249-676522b243ac;1.0\n",
      "\tconfs: [default]\n",
      "\tfound org.apache.hadoop#hadoop-aws;3.2.2 in central\n",
      "\tfound com.amazonaws#aws-java-sdk-bundle;1.11.563 in central\n",
      ":: resolution report :: resolve 221ms :: artifacts dl 7ms\n",
      "\t:: modules in use:\n",
      "\tcom.amazonaws#aws-java-sdk-bundle;1.11.563 from central in [default]\n",
      "\torg.apache.hadoop#hadoop-aws;3.2.2 from central in [default]\n",
      "\t---------------------------------------------------------------------\n",
      "\t|                  |            modules            ||   artifacts   |\n",
      "\t|       conf       | number| search|dwnlded|evicted|| number|dwnlded|\n",
      "\t---------------------------------------------------------------------\n",
      "\t|      default     |   2   |   0   |   0   |   0   ||   2   |   0   |\n",
      "\t---------------------------------------------------------------------\n",
      ":: retrieving :: org.apache.spark#spark-submit-parent-664ac2b9-8a1c-4f4e-a249-676522b243ac\n",
      "\tconfs: [default]\n",
      "\t0 artifacts copied, 2 already retrieved (0kB/6ms)\n",
      "24/10/18 05:19:36 WARN NativeCodeLoader: Unable to load native-hadoop library for your platform... using builtin-java classes where applicable\n",
      "Setting default log level to \"WARN\".\n",
      "To adjust logging level use sc.setLogLevel(newLevel). For SparkR, use setLogLevel(newLevel).\n"
     ]
    },
    {
     "name": "stdout",
     "output_type": "stream",
     "text": [
      "3.4.0\n"
     ]
    }
   ],
   "source": [
    "# Import pyspark and build Spark session\n",
    "from pyspark.sql import SparkSession\n",
    "\n",
    "spark = (\n",
    "    SparkSession.builder.appName(\"PySparkApp\")\n",
    "    .config(\"spark.jars.packages\", \"org.apache.hadoop:hadoop-aws:3.2.2\")\n",
    "    .config(\n",
    "        \"fs.s3a.aws.credentials.provider\",\n",
    "        \"com.amazonaws.auth.ContainerCredentialsProvider\",\n",
    "    )\n",
    "    .getOrCreate()\n",
    ")\n",
    "\n",
    "print(spark.version)"
   ]
  },
  {
   "cell_type": "markdown",
   "metadata": {},
   "source": [
    "### Reading data into a Spark Dataframe\n",
    "Note that we will be using the \"s3a\" adapter (read more [here](https://aws.amazon.com/blogs/opensource/community-collaboration-the-s3a-story)). S3A enables Hadoop to directly read and write Amazon S3 objects."
   ]
  },
  {
   "cell_type": "code",
   "execution_count": 3,
   "metadata": {
    "tags": []
   },
   "outputs": [
    {
     "name": "stderr",
     "output_type": "stream",
     "text": [
      "24/10/18 05:19:40 WARN MetricsConfig: Cannot locate configuration: tried hadoop-metrics2-s3a-file-system.properties,hadoop-metrics2.properties\n",
      "24/10/18 05:19:45 WARN package: Truncated the string representation of a plan since it was too large. This behavior can be adjusted by setting 'spark.sql.debug.maxToStringFields'.\n",
      "[Stage 1:>                                                          (0 + 1) / 1]\r"
     ]
    },
    {
     "name": "stdout",
     "output_type": "stream",
     "text": [
      "+--------------------+--------------------+--------------------+------------+----------------------+----------------------+----------------------+----------------------+------------------------+--------------------------+-----------------------+-----------------------+----------------------+------------+--------+--------------------+---------+-------------------+------------+--------------+--------------------+-----------------+---------------------+---------------+-----------------+-----------------+--------------------+------------------+------------------+----------------+\n",
      "|         url_surtkey|                 url|       url_host_name|url_host_tld|url_host_2nd_last_part|url_host_3rd_last_part|url_host_4th_last_part|url_host_5th_last_part|url_host_registry_suffix|url_host_registered_domain|url_host_private_suffix|url_host_private_domain|url_host_name_reversed|url_protocol|url_port|            url_path|url_query|         fetch_time|fetch_status|fetch_redirect|      content_digest|content_mime_type|content_mime_detected|content_charset|content_languages|content_truncated|       warc_filename|warc_record_offset|warc_record_length|    warc_segment|\n",
      "+--------------------+--------------------+--------------------+------------+----------------------+----------------------+----------------------+----------------------+------------------------+--------------------------+-----------------------+-----------------------+----------------------+------------+--------+--------------------+---------+-------------------+------------+--------------+--------------------+-----------------+---------------------+---------------+-----------------+-----------------+--------------------+------------------+------------------+----------------+\n",
      "|org,etoaka)/schol...|https://www.etoak...|      www.etoaka.org|         org|                etoaka|                   www|                  null|                  null|                     org|                etoaka.org|                    org|             etoaka.org|        org.etoaka.www|       https|    null|/scholarship-appl...|     null|2023-01-30 13:57:20|         200|          null|557YTZWJVVMWRBJMV...|        text/html|            text/html|          UTF-8|              eng|             null|crawl-data/CC-MAI...|         763306682|            110699|1674764499819.32|\n",
      "|org,etobicokedivi...|http://www.etobic...|www.etobicokedivi...|         org|       etobicokediving|                   www|                  null|                  null|                     org|       etobicokediving.org|                    org|    etobicokediving.org|  org.etobicokedivi...|        http|    null|                   /|     null|2023-02-08 20:52:21|         200|          null|5OF42PAVFOI76A74N...|        text/html|            text/html|          UTF-8|              eng|             null|crawl-data/CC-MAI...|          63225374|             12040|1674764500904.44|\n",
      "|org,etobicokegirl...|https://www.etobi...|www.etobicokegirl...|         org|  etobicokegirlssof...|                   www|                  null|                  null|                     org|      etobicokegirlssof...|                    org|   etobicokegirlssof...|  org.etobicokegirl...|       https|    null|                   /|     null|2023-02-07 14:39:28|         200|          null|WUQZV4W6JSDDIUCVC...|        text/html|            text/html|          UTF-8|              eng|             null|crawl-data/CC-MAI...|         748227233|             96464|1674764500619.96|\n",
      "|org,etobicokegirl...|https://www.etobi...|www.etobicokegirl...|         org|  etobicokegirlssof...|                   www|                  null|                  null|                     org|      etobicokegirlssof...|                    org|   etobicokegirlssof...|  org.etobicokegirl...|       https|    null|/adult-co-ed-3-pitch|     null|2023-02-07 14:16:52|         200|          null|NIPMBRC5GJW65JSAK...|        text/html|            text/html|          UTF-8|              eng|             null|crawl-data/CC-MAI...|         740737716|             94855|1674764500619.96|\n",
      "|org,etobicokegirl...|https://www.etobi...|www.etobicokegirl...|         org|  etobicokegirlssof...|                   www|                  null|                  null|                     org|      etobicokegirlssof...|                    org|   etobicokegirlssof...|  org.etobicokegirl...|       https|    null|/constitution-pol...|     null|2023-02-07 15:10:45|         200|          null|5XTRKKTYW3BALPABR...|        text/html|            text/html|          UTF-8|              eng|             null|crawl-data/CC-MAI...|         752877085|            101327|1674764500619.96|\n",
      "|org,etobicokegirl...|https://www.etobi...|www.etobicokegirl...|         org|  etobicokegirlssof...|                   www|                  null|                  null|                     org|      etobicokegirlssof...|                    org|   etobicokegirlssof...|  org.etobicokegirl...|       https|    null|         /contact-us|     null|2023-02-07 14:22:02|         200|          null|PJWLINJVIWPQULXDA...|        text/html|            text/html|          UTF-8|              eng|             null|crawl-data/CC-MAI...|         781358969|             96718|1674764500619.96|\n",
      "|org,etobicokegirl...|https://www.etobi...|www.etobicokegirl...|         org|  etobicokegirlssof...|                   www|                  null|                  null|                     org|      etobicokegirlssof...|                    org|   etobicokegirlssof...|  org.etobicokegirl...|       https|    null|/copy-of-learn-to...|     null|2023-02-07 14:26:14|         200|          null|LAY2V7NQ5IBLEZTXC...|        text/html|            text/html|          UTF-8|              eng|             null|crawl-data/CC-MAI...|         761685552|             94321|1674764500619.96|\n",
      "|org,etobicokegirl...|https://www.etobi...|www.etobicokegirl...|         org|  etobicokegirlssof...|                   www|                  null|                  null|                     org|      etobicokegirlssof...|                    org|   etobicokegirlssof...|  org.etobicokegirl...|       https|    null|/copy-of-registra...|     null|2023-02-07 15:33:49|         200|          null|JDY4N2QAAAVV7YFK7...|        text/html|            text/html|          UTF-8|              eng|             null|crawl-data/CC-MAI...|         768541166|             95261|1674764500619.96|\n",
      "|org,etobicokegirl...|https://www.etobi...|www.etobicokegirl...|         org|  etobicokegirlssof...|                   www|                  null|                  null|                     org|      etobicokegirlssof...|                    org|   etobicokegirlssof...|  org.etobicokegirl...|       https|    null|   /copy-of-sponsors|     null|2023-02-07 15:29:06|         200|          null|HR3JXEY7GHASAZUXF...|        text/html|            text/html|          UTF-8|              eng|             null|crawl-data/CC-MAI...|         750346316|             95044|1674764500619.96|\n",
      "|org,etobicokegirl...|https://www.etobi...|www.etobicokegirl...|         org|  etobicokegirlssof...|                   www|                  null|                  null|                     org|      etobicokegirlssof...|                    org|   etobicokegirlssof...|  org.etobicokegirl...|       https|    null|  /diamond-locations|     null|2023-02-07 15:50:28|         200|          null|XJGPNGG3EOJGHADST...|        text/html|            text/html|          UTF-8|              eng|             null|crawl-data/CC-MAI...|         782098574|             95542|1674764500619.96|\n",
      "|org,etobicokegirl...|https://www.etobi...|www.etobicokegirl...|         org|  etobicokegirlssof...|                   www|                  null|                  null|                     org|      etobicokegirlssof...|                    org|   etobicokegirlssof...|  org.etobicokegirl...|       https|    null|/gail-weiler-spir...|     null|2023-02-07 15:00:31|         200|          null|NSOQ37SQDQCKZPUBH...|        text/html|            text/html|          UTF-8|              eng|             null|crawl-data/CC-MAI...|         771642166|             95750|1674764500619.96|\n",
      "|org,etobicokegirl...|https://www.etobi...|www.etobicokegirl...|         org|  etobicokegirlssof...|                   www|                  null|                  null|                     org|      etobicokegirlssof...|                    org|   etobicokegirlssof...|  org.etobicokegirl...|       https|    null|    /novice-rep-team|     null|2023-02-07 15:29:44|         200|          null|L2C2GCCQRV6TE7PFZ...|        text/html|            text/html|          UTF-8|              eng|             null|crawl-data/CC-MAI...|         756856025|             95924|1674764500619.96|\n",
      "|org,etobicokegirl...|https://www.etobi...|www.etobicokegirl...|         org|  etobicokegirlssof...|                   www|                  null|                  null|                     org|      etobicokegirlssof...|                    org|   etobicokegirlssof...|  org.etobicokegirl...|       https|    null|/president-s-pers...|     null|2023-02-07 14:51:43|         200|          null|WPN24LTGQFIOU2VSY...|        text/html|            text/html|          UTF-8|              eng|             null|crawl-data/CC-MAI...|         744195823|             96773|1674764500619.96|\n",
      "|org,etobicokegirl...|https://www.etobi...|www.etobicokegirl...|         org|  etobicokegirlssof...|                   www|                  null|                  null|                     org|      etobicokegirlssof...|                    org|   etobicokegirlssof...|  org.etobicokegirl...|       https|    null|        /select-team|     null|2023-02-07 14:26:54|         200|          null|T27TI4XZIHMP672WM...|        text/html|            text/html|          UTF-8|              eng|             null|crawl-data/CC-MAI...|         768678549|             95162|1674764500619.96|\n",
      "|org,etobicokehub)...|http://etobicokeh...|    etobicokehub.org|         org|          etobicokehub|                  null|                  null|                  null|                     org|          etobicokehub.org|                    org|       etobicokehub.org|      org.etobicokehub|        http|    null|/CECHI-Membership...|     null|2023-01-30 14:44:51|         200|          null|PDAQUF6IRPZIN3OIP...|        text/html|            text/html|          UTF-8|              eng|             null|crawl-data/CC-MAI...|          13639333|              2607|1674764499819.32|\n",
      "|org,etobicokehub)...|http://etobicokeh...|    etobicokehub.org|         org|          etobicokehub|                  null|                  null|                  null|                     org|          etobicokehub.org|                    org|       etobicokehub.org|      org.etobicokehub|        http|    null|/CECHI-Membership...|     null|2023-01-30 15:11:03|         200|          null|AQ7IMJI2GAGMFVXWA...|        text/html|            text/html|          UTF-8|              eng|             null|crawl-data/CC-MAI...|          16393155|              2561|1674764499819.32|\n",
      "|org,etobicokehub)...|http://etobicokeh...|    etobicokehub.org|         org|          etobicokehub|                  null|                  null|                  null|                     org|          etobicokehub.org|                    org|       etobicokehub.org|      org.etobicokehub|        http|    null|     /ContactUs.html|     null|2023-01-30 15:44:46|         200|          null|EKG4LRFCUO2AOH6YN...|        text/html|            text/html|          UTF-8|              eng|             null|crawl-data/CC-MAI...|          13532056|              1781|1674764499819.32|\n",
      "|org,etobicokehub)...|http://etobicokeh...|    etobicokehub.org|         org|          etobicokehub|                  null|                  null|                  null|                     org|          etobicokehub.org|                    org|       etobicokehub.org|      org.etobicokehub|        http|    null|         /index.html|     null|2023-01-30 15:35:41|         200|          null|AN7Q4G42AQ363USGR...|        text/html|            text/html|          UTF-8|              eng|             null|crawl-data/CC-MAI...|          13454413|              2754|1674764499819.32|\n",
      "|org,etobicokehub)...|http://etobicokeh...|    etobicokehub.org|         org|          etobicokehub|                  null|                  null|                  null|                     org|          etobicokehub.org|                    org|       etobicokehub.org|      org.etobicokehub|        http|    null|    /Membership.html|     null|2023-01-30 15:46:41|         200|          null|LHE23LKHLKMJLAV26...|        text/html|            text/html|          UTF-8|              eng|             null|crawl-data/CC-MAI...|          14855233|              1786|1674764499819.32|\n",
      "|org,etobicoketemp...|https://etobicoke...| etobicoketemple.org|         org|       etobicoketemple|                  null|                  null|                  null|                     org|       etobicoketemple.org|                    org|    etobicoketemple.org|   org.etobicoketemple|       https|    null|                   /|     null|2023-02-07 02:15:44|         200|          null|T64I5XOOF7P4GGF3Y...|        text/html| application/xhtml...|          UTF-8|              eng|             null|crawl-data/CC-MAI...|         251089084|             18939| 1674764500368.7|\n",
      "+--------------------+--------------------+--------------------+------------+----------------------+----------------------+----------------------+----------------------+------------------------+--------------------------+-----------------------+-----------------------+----------------------+------------+--------+--------------------+---------+-------------------+------------+--------------+--------------------+-----------------+---------------------+---------------+-----------------+-----------------+--------------------+------------------+------------------+----------------+\n",
      "only showing top 20 rows\n",
      "\n",
      "CPU times: user 3.63 ms, sys: 9.71 ms, total: 13.3 ms\n",
      "Wall time: 20.8 s\n"
     ]
    },
    {
     "name": "stderr",
     "output_type": "stream",
     "text": [
      "                                                                                \r"
     ]
    }
   ],
   "source": [
    "%%time\n",
    "cc_index_path = \"s3a://commoncrawl/cc-index/table/cc-main/warc/crawl=CC-MAIN-2023-06/subset=warc/part-00260-b5ddf469-bf28-43c4-9c36-5b5ccc3b2bf1.c000.gz.parquet\"\n",
    "cc_index = spark.read.parquet(cc_index_path,\n",
    "    header=True\n",
    ")\n",
    "cc_index.show()"
   ]
  },
  {
   "cell_type": "code",
   "execution_count": 4,
   "metadata": {
    "tags": []
   },
   "outputs": [
    {
     "name": "stdout",
     "output_type": "stream",
     "text": [
      "root\n",
      " |-- url_surtkey: string (nullable = true)\n",
      " |-- url: string (nullable = true)\n",
      " |-- url_host_name: string (nullable = true)\n",
      " |-- url_host_tld: string (nullable = true)\n",
      " |-- url_host_2nd_last_part: string (nullable = true)\n",
      " |-- url_host_3rd_last_part: string (nullable = true)\n",
      " |-- url_host_4th_last_part: string (nullable = true)\n",
      " |-- url_host_5th_last_part: string (nullable = true)\n",
      " |-- url_host_registry_suffix: string (nullable = true)\n",
      " |-- url_host_registered_domain: string (nullable = true)\n",
      " |-- url_host_private_suffix: string (nullable = true)\n",
      " |-- url_host_private_domain: string (nullable = true)\n",
      " |-- url_host_name_reversed: string (nullable = true)\n",
      " |-- url_protocol: string (nullable = true)\n",
      " |-- url_port: integer (nullable = true)\n",
      " |-- url_path: string (nullable = true)\n",
      " |-- url_query: string (nullable = true)\n",
      " |-- fetch_time: timestamp (nullable = true)\n",
      " |-- fetch_status: short (nullable = true)\n",
      " |-- fetch_redirect: string (nullable = true)\n",
      " |-- content_digest: string (nullable = true)\n",
      " |-- content_mime_type: string (nullable = true)\n",
      " |-- content_mime_detected: string (nullable = true)\n",
      " |-- content_charset: string (nullable = true)\n",
      " |-- content_languages: string (nullable = true)\n",
      " |-- content_truncated: string (nullable = true)\n",
      " |-- warc_filename: string (nullable = true)\n",
      " |-- warc_record_offset: integer (nullable = true)\n",
      " |-- warc_record_length: integer (nullable = true)\n",
      " |-- warc_segment: string (nullable = true)\n",
      "\n"
     ]
    }
   ],
   "source": [
    "cc_index.printSchema()"
   ]
  },
  {
   "cell_type": "markdown",
   "metadata": {},
   "source": [
    "### Analytics operations\n",
    "\n",
    "Let us now do a few analytics operations locally in this notebook."
   ]
  },
  {
   "cell_type": "markdown",
   "metadata": {},
   "source": [
    "Dataframe shape"
   ]
  },
  {
   "cell_type": "code",
   "execution_count": 5,
   "metadata": {
    "tags": []
   },
   "outputs": [
    {
     "name": "stderr",
     "output_type": "stream",
     "text": [
      "[Stage 2:===============================================>           (4 + 1) / 5]\r"
     ]
    },
    {
     "name": "stdout",
     "output_type": "stream",
     "text": [
      "shape of the dataframe is 8,974,979x30\n",
      "CPU times: user 3.43 ms, sys: 3.96 ms, total: 7.39 ms\n",
      "Wall time: 1.96 s\n"
     ]
    },
    {
     "name": "stderr",
     "output_type": "stream",
     "text": [
      "                                                                                \r"
     ]
    }
   ],
   "source": [
    "%%time\n",
    "print(f\"shape of the dataframe is {cc_index.count():,}x{len(cc_index.columns)}\")"
   ]
  },
  {
   "cell_type": "markdown",
   "metadata": {
    "tags": []
   },
   "source": [
    "Select a few columns of interest and filter a few rows of interest. In this example let us filter all rows where `url_path` contains the string `fortnite`."
   ]
  },
  {
   "cell_type": "code",
   "execution_count": 6,
   "metadata": {
    "tags": []
   },
   "outputs": [
    {
     "name": "stderr",
     "output_type": "stream",
     "text": [
      "                                                                                \r"
     ]
    },
    {
     "name": "stdout",
     "output_type": "stream",
     "text": [
      "number of rows where url_path contains \"fortnite\" is 252\n"
     ]
    },
    {
     "name": "stderr",
     "output_type": "stream",
     "text": [
      "[Stage 8:>                                                          (0 + 1) / 1]\r"
     ]
    },
    {
     "name": "stdout",
     "output_type": "stream",
     "text": [
      "CPU times: user 14.4 ms, sys: 1.94 ms, total: 16.4 ms\n",
      "Wall time: 7.23 s\n"
     ]
    },
    {
     "name": "stderr",
     "output_type": "stream",
     "text": [
      "                                                                                \r"
     ]
    },
    {
     "data": {
      "text/plain": [
       "[Row(url_protocol='https', url_host_tld='org', fetch_time=datetime.datetime(2023, 1, 28, 13, 15, 59), fetch_status=200, content_languages='ind', url_host_registered_domain='eu.org', url_path='/2022/03/22/epic-games-sumbang-hasil-penjualan-game-fortnite-ke-ukraina/'),\n",
       " Row(url_protocol='https', url_host_tld='org', fetch_time=datetime.datetime(2023, 2, 3, 10, 36, 32), fetch_status=200, content_languages='ind,eng', url_host_registered_domain='eu.org', url_path='/2021/03/sekarang-game-fortnite-bisa-dimainkan.html'),\n",
       " Row(url_protocol='https', url_host_tld='org', fetch_time=datetime.datetime(2023, 2, 1, 18, 48, 34), fetch_status=200, content_languages='eng', url_host_registered_domain='eu.org', url_path='/2020/12/fortnite-wallpaper-hd.html'),\n",
       " Row(url_protocol='https', url_host_tld='org', fetch_time=datetime.datetime(2023, 2, 1, 19, 33, 51), fetch_status=200, content_languages='eng', url_host_registered_domain='eu.org', url_path='/2020/12/fortnite-wallpaper-iphone.html'),\n",
       " Row(url_protocol='https', url_host_tld='org', fetch_time=datetime.datetime(2023, 2, 2, 21, 52, 37), fetch_status=200, content_languages='eng', url_host_registered_domain='eu.org', url_path='/2022/12/fortnite-chapter-4-powered-by-unreal.html')]"
      ]
     },
     "execution_count": 6,
     "metadata": {},
     "output_type": "execute_result"
    }
   ],
   "source": [
    "%%time\n",
    "pattern = 'fortnite'\n",
    "cc_index_filtered = cc_index.select(\"url_protocol\", \"url_host_tld\", \"fetch_time\", \"fetch_status\", \"content_languages\", \"url_host_registered_domain\", \"url_path\") \\\n",
    "                            .filter(cc_index.url_path.like(f'%{pattern}%'))\n",
    "\n",
    "\n",
    "print(f\"number of rows where url_path contains \\\"{pattern}\\\" is {cc_index_filtered.count():,}\")\n",
    "cc_index_filtered.head(5)"
   ]
  },
  {
   "cell_type": "markdown",
   "metadata": {},
   "source": [
    "Count pages by `content_languages` and sort counts in descending order."
   ]
  },
  {
   "cell_type": "code",
   "execution_count": 7,
   "metadata": {
    "tags": []
   },
   "outputs": [
    {
     "name": "stderr",
     "output_type": "stream",
     "text": [
      "[Stage 9:===============================================>           (4 + 1) / 5]\r"
     ]
    },
    {
     "name": "stdout",
     "output_type": "stream",
     "text": [
      "+-----------------+-------+\n",
      "|content_languages|  count|\n",
      "+-----------------+-------+\n",
      "|              eng|5738808|\n",
      "|             null| 375493|\n",
      "|              fra| 374666|\n",
      "|          fra,eng| 244200|\n",
      "|              spa| 214516|\n",
      "|          spa,eng| 118904|\n",
      "|              ita|  93876|\n",
      "|              deu|  89955|\n",
      "|              rus|  75802|\n",
      "|          ita,eng|  74727|\n",
      "|          rus,eng|  67568|\n",
      "|          deu,eng|  64660|\n",
      "|          eng,fra|  64135|\n",
      "|              pol|  60654|\n",
      "|              zho|  49808|\n",
      "|          eng,spa|  46708|\n",
      "|          pol,eng|  39836|\n",
      "|              por|  33688|\n",
      "|              tur|  33323|\n",
      "|          zho,eng|  33005|\n",
      "+-----------------+-------+\n",
      "only showing top 20 rows\n",
      "\n",
      "CPU times: user 3.63 ms, sys: 4.27 ms, total: 7.9 ms\n",
      "Wall time: 3.39 s\n"
     ]
    },
    {
     "name": "stderr",
     "output_type": "stream",
     "text": [
      "                                                                                \r"
     ]
    }
   ],
   "source": [
    "%%time\n",
    "from pyspark.sql.functions import *\n",
    "cc_index.groupBy(\"content_languages\").count().orderBy(col(\"count\").desc()).show()"
   ]
  },
  {
   "cell_type": "markdown",
   "metadata": {},
   "source": [
    "Count pages by `url_host_registered_domain` and `content_languages`."
   ]
  },
  {
   "cell_type": "code",
   "execution_count": 8,
   "metadata": {
    "tags": []
   },
   "outputs": [
    {
     "name": "stderr",
     "output_type": "stream",
     "text": [
      "[Stage 12:==============================================>           (4 + 1) / 5]\r"
     ]
    },
    {
     "name": "stdout",
     "output_type": "stream",
     "text": [
      "+--------------------------+-----------------+------+\n",
      "|url_host_registered_domain|content_languages| count|\n",
      "+--------------------------+-----------------+------+\n",
      "|         fedoraproject.org|              eng|223965|\n",
      "|                   eun.org|              eng|207939|\n",
      "|               freebsd.org|              eng|159226|\n",
      "|                   fao.org|              eng| 99724|\n",
      "|                    eu.org|              eng| 81565|\n",
      "|           freedesktop.org|              eng| 81419|\n",
      "|                   ewg.org|              eng| 66536|\n",
      "|           fieldmuseum.org|              eng| 59673|\n",
      "|                ffmpeg.org|              eng| 55019|\n",
      "|          familysearch.org|              eng| 52541|\n",
      "|                  etsi.org|              eng| 47654|\n",
      "|                    eu.org|              pol| 46528|\n",
      "|      filezilla-project...|              eng| 41060|\n",
      "|            freepascal.org|              eng| 40552|\n",
      "|         firstinspires.org|              eng| 32360|\n",
      "|                    eu.org|              fra| 31949|\n",
      "|         fedoraproject.org|             null| 31194|\n",
      "|                  faqs.org|              eng| 31166|\n",
      "|            forumactif.org|              fra| 30873|\n",
      "|               freebsd.org|             null| 30752|\n",
      "+--------------------------+-----------------+------+\n",
      "only showing top 20 rows\n",
      "\n"
     ]
    },
    {
     "name": "stderr",
     "output_type": "stream",
     "text": [
      "                                                                                \r"
     ]
    }
   ],
   "source": [
    "cc_index.groupBy([\"url_host_registered_domain\", \"content_languages\"]).count().orderBy(col(\"count\").desc()).show()"
   ]
  },
  {
   "cell_type": "markdown",
   "metadata": {
    "tags": []
   },
   "source": [
    "What percentage of pages are `text/html`?"
   ]
  },
  {
   "cell_type": "code",
   "execution_count": 9,
   "metadata": {
    "tags": []
   },
   "outputs": [
    {
     "name": "stderr",
     "output_type": "stream",
     "text": [
      "[Stage 18:==============================================>           (4 + 1) / 5]\r"
     ]
    },
    {
     "name": "stdout",
     "output_type": "stream",
     "text": [
      "+--------------------+-------+--------------------+\n",
      "|   content_mime_type|  count|          percentage|\n",
      "+--------------------+-------+--------------------+\n",
      "|           text/html|8663871|   96.53360748810665|\n",
      "|     application/pdf| 122576|  1.3657524992537586|\n",
      "|          text/plain|  41125| 0.45821834234932474|\n",
      "|application/xhtml...|  24644|  0.2745856007016841|\n",
      "|application/octet...|  23878|  0.2660507617900833|\n",
      "|            text/csv|  17476|  0.1947191185628401|\n",
      "|                 unk|  10333| 0.11513118860779507|\n",
      "| application/rss+xml|  10031| 0.11176627822750337|\n",
      "|          image/jpeg|   9205| 0.10256291407478502|\n",
      "|       text/calendar|   9090|  0.1012815740293097|\n",
      "|            text/xml|   4780| 0.05325917754236528|\n",
      "|    application/json|   4747| 0.05289148865975062|\n",
      "|application/atom+xml|   4008| 0.04465748610665273|\n",
      "| application/rdf+xml|   2288|0.025493095861282795|\n",
      "|         text/turtle|   2285| 0.02545966959922692|\n",
      "|  charset=ISO-8859-1|   1989|0.022161611743046976|\n",
      "|  application/msword|   1436|0.016000037437413503|\n",
      "|application/x-bibtex|   1313|0.014629560693122512|\n",
      "|     application/xml|   1294|0.014417861033435286|\n",
      "|application/pgp-s...|   1248| 0.01390532501524516|\n",
      "+--------------------+-------+--------------------+\n",
      "only showing top 20 rows\n",
      "\n"
     ]
    },
    {
     "name": "stderr",
     "output_type": "stream",
     "text": [
      "                                                                                \r"
     ]
    }
   ],
   "source": [
    "# calculate the total number of rows\n",
    "rows = cc_index.count()\n",
    "\n",
    "# convert the absolute counts to percentage\n",
    "cc_index_mime_type_counts = cc_index.groupBy(\"content_mime_type\").count().orderBy(col(\"count\").desc())\n",
    "\n",
    "cc_index_mime_type_counts \\\n",
    "        .withColumn(\"percentage\", 100*col(\"count\")/rows).show()"
   ]
  },
  {
   "cell_type": "markdown",
   "metadata": {},
   "source": [
    "## Process S3 data with SageMaker Processing Job `PySparkProcessor`\n",
    "\n",
    "We are going to move the above processing code in a Python file and then submit that file to SageMaker Processing Job's [`PySparkProcessor`](https://sagemaker.readthedocs.io/en/stable/amazon_sagemaker_processing.html#pysparkprocessor)."
   ]
  },
  {
   "cell_type": "code",
   "execution_count": 10,
   "metadata": {
    "tags": []
   },
   "outputs": [],
   "source": [
    "!mkdir -p ./code"
   ]
  },
  {
   "cell_type": "code",
   "execution_count": 11,
   "metadata": {
    "tags": []
   },
   "outputs": [
    {
     "name": "stdout",
     "output_type": "stream",
     "text": [
      "Overwriting ./code/process.py\n"
     ]
    }
   ],
   "source": [
    "%%writefile ./code/process.py\n",
    "\n",
    "import os\n",
    "import argparse\n",
    "\n",
    "# Import pyspark and build Spark session\n",
    "from pyspark.sql.functions import *\n",
    "from pyspark.sql.types import (\n",
    "    DoubleType,\n",
    "    IntegerType,\n",
    "    StringType,\n",
    "    StructField,\n",
    "    StructType,\n",
    ")\n",
    "from pyspark.sql import SparkSession\n",
    "\n",
    "\n",
    "def main():\n",
    "    parser = argparse.ArgumentParser(description=\"app inputs and outputs\")\n",
    "    parser.add_argument(\"--s3_dataset_path\", type=str, help=\"Path of dataset in S3\")\n",
    "    parser.add_argument(\"--s3_output_bucket\", type=str, help=\"s3 output bucket\")\n",
    "    parser.add_argument(\"--s3_output_key_prefix\", type=str, help=\"s3 output key prefix\")\n",
    "    args = parser.parse_args()\n",
    "\n",
    "    spark = SparkSession.builder.appName(\"PySparkApp\").getOrCreate()\n",
    "    print(f\"spark version = {spark.version}\")\n",
    "    \n",
    "    # This is needed to save RDDs which is the only way to write nested Dataframes into CSV format\n",
    "    sc = spark.sparkContext\n",
    "    sc._jsc.hadoopConfiguration().set(\n",
    "        \"mapred.output.committer.class\", \"org.apache.hadoop.mapred.FileOutputCommitter\"\n",
    "    )\n",
    "\n",
    "    # Defining the schema corresponding to the input data. The input data does not contain the headers\n",
    "    schema = StructType(\n",
    "        [\n",
    "            StructField(\"url_surtkey\", StringType(), True),\n",
    "            StructField(\"url\", StringType(), True),\n",
    "            StructField(\"url_host_name\", StringType(), True),\n",
    "            StructField(\"url_host_tld\", StringType(), True),\n",
    "            StructField(\"url_host_2nd_last_part\", StringType(), True),\n",
    "            StructField(\"url_host_3rd_last_part\", StringType(), True),\n",
    "            StructField(\"url_host_4th_last_part\", StringType(), True),\n",
    "            StructField(\"url_host_5th_last_part\", StringType(), True),\n",
    "            StructField(\"url_host_registry_suffix\", StringType(), True),\n",
    "            StructField(\"url_host_registered_domain\", StringType(), True),\n",
    "            StructField(\"url_host_private_suffix\", StringType(), True),\n",
    "            StructField(\"url_host_private_domain\", StringType(), True),\n",
    "            StructField(\"url_host_name_reversed\", StringType(), True),\n",
    "            StructField(\"url_protocol\", StringType(), True),\n",
    "            StructField(\"url_port\", IntegerType(), True),\n",
    "            StructField(\"url_path\", StringType(), True),\n",
    "            StructField(\"url_query\", StringType(), True),\n",
    "            StructField(\"fetch_time\", IntegerType(), True),\n",
    "            StructField(\"fetch_status\", IntegerType(), True),\n",
    "            StructField(\"fetch_redirect\", StringType(), True),\n",
    "            StructField(\"content_digest\", StringType(), True),\n",
    "            StructField(\"content_mime_type\", StringType(), True),\n",
    "            StructField(\"content_mime_detected\", StringType(), True),\n",
    "            StructField(\"content_charset\", StringType(), True),\n",
    "            StructField(\"content_languages\", StringType(), True),\n",
    "            StructField(\"content_truncated\", StringType(), True),\n",
    "            StructField(\"warc_filename\", StringType(), True),\n",
    "            StructField(\"warc_record_offset\", IntegerType(), True),\n",
    "            StructField(\"warc_record_length\", IntegerType(), True),\n",
    "            StructField(\"warc_segment\", StringType(), True)\n",
    "        ]\n",
    "    )\n",
    "    \n",
    "    # Downloading the data from S3 into a Dataframe\n",
    "    print(f\"going to read {args.s3_dataset_path}\")\n",
    "    cc_index = spark.read.parquet(args.s3_dataset_path, header=True, schema=schema)\n",
    "    print(f\"finished reading files...\")\n",
    "    \n",
    "    # get count\n",
    "    row_count = cc_index.count()\n",
    "    # create a temp rdd and save to s3\n",
    "    line = [f\"count={row_count}\"]\n",
    "    print(line)\n",
    "    l = [('count', row_count)]\n",
    "    tmp_df = spark.createDataFrame(l)\n",
    "    s3_path = \"s3://\" + os.path.join(args.s3_output_bucket, args.s3_output_key_prefix, \"count\")\n",
    "    print(f\"going to save count to {s3_path}\")\n",
    "    # we want to write to a single file so coalesce\n",
    "    tmp_df.coalesce(1).write.format('csv').option('header', 'false').mode(\"overwrite\").save(s3_path)\n",
    "    \n",
    "    # counts by registered domain\n",
    "    counts_by_domain = cc_index.groupBy(\"url_host_registered_domain\").count().orderBy(col(\"count\").desc())\n",
    "    s3_path = \"s3://\" + os.path.join(args.s3_output_bucket, args.s3_output_key_prefix, f\"counts_by_registered_domain\")\n",
    "    print(f\"going to save counts by domain to {s3_path}\")\n",
    "    # these could be a lot of domains only keep the top N\n",
    "    counts_by_domain.coalesce(1).write.format('csv').option('header', 'true').mode(\"overwrite\").save(s3_path)\n",
    "    \n",
    "\n",
    "\n",
    "    # convert the absolute counts to percentage\n",
    "    content_languages_counts = cc_index.groupBy(\"content_languages\").count().orderBy(col(\"count\").desc())\n",
    "\n",
    "    content_languages_counts_pct = content_languages_counts \\\n",
    "          .withColumn(\"percentage\", 100*col(\"count\")/row_count)\n",
    "    s3_path = \"s3://\" + os.path.join(args.s3_output_bucket, args.s3_output_key_prefix, \"counts_by_content_languages\")\n",
    "    print(f\"going to save counts by content languages to {s3_path}\")\n",
    "    content_languages_counts_pct.coalesce(1).write.format('csv').option('header', 'true').mode(\"overwrite\").save(s3_path)\n",
    "    \n",
    "    cc_hits_timeseries = cc_index.select(\"url_host_tld\", \"fetch_time\") \\\n",
    "        .withColumn(\"fetch_hour\", date_trunc('hour', cc_index.fetch_time)) \\\n",
    "        .groupBy([\"fetch_hour\"]) \\\n",
    "        .agg(count(\"url_host_tld\").alias(\"hits\")) \\\n",
    "        .orderBy(col(\"fetch_hour\").desc()) \n",
    "    s3_path = \"s3://\" + os.path.join(args.s3_output_bucket, args.s3_output_key_prefix, \"hits_per_hour_timeseries\")\n",
    "    print(f\"going to save counts by hour to {s3_path}\")\n",
    "    cc_hits_timeseries.coalesce(1).write.format('csv').option('header', 'true').mode(\"overwrite\").save(s3_path)\n",
    "    \n",
    "\n",
    "if __name__ == \"__main__\":\n",
    "    main()"
   ]
  },
  {
   "cell_type": "markdown",
   "metadata": {},
   "source": [
    "Now submit this code to SageMaker Processing Job."
   ]
  },
  {
   "cell_type": "code",
   "execution_count": 14,
   "metadata": {
    "tags": []
   },
   "outputs": [
    {
     "name": "stdout",
     "output_type": "stream",
     "text": [
      "s3_dataset_path=s3://commoncrawl/cc-index/table/cc-main/warc/crawl=CC-MAIN-2023-*/subset=warc/*.gz.parquet\n",
      ".........................................................................................................................................................................................................................................................................................................................................................................................................................................................................................................................................................!CPU times: user 2.94 s, sys: 274 ms, total: 3.21 s\n",
      "Wall time: 45min 11s\n"
     ]
    }
   ],
   "source": [
    "%%time\n",
    "import sagemaker\n",
    "from sagemaker.spark.processing import PySparkProcessor\n",
    "\n",
    "# Setup the PySpark processor to run the job. Note the instance type and instance count parameters. SageMaker will create these many instances of this type for the spark job.\n",
    "role = sagemaker.get_execution_role()\n",
    "spark_processor = PySparkProcessor(\n",
    "    base_job_name=\"sm-spark\",\n",
    "    framework_version=\"3.1\",\n",
    "    role=role,\n",
    "    instance_count=4,\n",
    "    instance_type=\"ml.m5.2xlarge\",\n",
    "    max_runtime_in_seconds=3600,\n",
    ")\n",
    "\n",
    "# s3 paths\n",
    "crawl = \"crawl=CC-MAIN-2023-*\"\n",
    "s3_dataset_path = f\"s3://commoncrawl/cc-index/table/cc-main/warc/{crawl}/subset=warc/*.gz.parquet\"\n",
    "print(f\"s3_dataset_path={s3_dataset_path}\")\n",
    "session = sagemaker.Session()\n",
    "bucket = session.default_bucket()\n",
    "output_prefix_data = f\"{crawl}-data\"\n",
    "output_prefix_logs = f\"{crawl}-spark_logs\"\n",
    "\n",
    "\n",
    "# run the job now, the arguments array is provided as command line to the Python script (Spark code in this case).\n",
    "spark_processor.run(\n",
    "    submit_app=\"./code/process.py\",\n",
    "    arguments=[\n",
    "        \"--s3_dataset_path\",\n",
    "        s3_dataset_path,\n",
    "        \"--s3_output_bucket\",\n",
    "        bucket,\n",
    "        \"--s3_output_key_prefix\",\n",
    "        output_prefix_data,\n",
    "    ],\n",
    "    spark_event_logs_s3_uri=\"s3://{}/{}/spark_event_logs\".format(bucket, output_prefix_logs),\n",
    "    logs=False,\n",
    ")"
   ]
  },
  {
   "cell_type": "markdown",
   "metadata": {},
   "source": [
    "![Processing job completed](img/sm-processing-job.jpg) "
   ]
  }
 ],
 "metadata": {
  "availableInstances": [
   {
    "_defaultOrder": 0,
    "_isFastLaunch": true,
    "category": "General purpose",
    "gpuNum": 0,
    "hideHardwareSpecs": false,
    "memoryGiB": 4,
    "name": "ml.t3.medium",
    "vcpuNum": 2
   },
   {
    "_defaultOrder": 1,
    "_isFastLaunch": false,
    "category": "General purpose",
    "gpuNum": 0,
    "hideHardwareSpecs": false,
    "memoryGiB": 8,
    "name": "ml.t3.large",
    "vcpuNum": 2
   },
   {
    "_defaultOrder": 2,
    "_isFastLaunch": false,
    "category": "General purpose",
    "gpuNum": 0,
    "hideHardwareSpecs": false,
    "memoryGiB": 16,
    "name": "ml.t3.xlarge",
    "vcpuNum": 4
   },
   {
    "_defaultOrder": 3,
    "_isFastLaunch": false,
    "category": "General purpose",
    "gpuNum": 0,
    "hideHardwareSpecs": false,
    "memoryGiB": 32,
    "name": "ml.t3.2xlarge",
    "vcpuNum": 8
   },
   {
    "_defaultOrder": 4,
    "_isFastLaunch": true,
    "category": "General purpose",
    "gpuNum": 0,
    "hideHardwareSpecs": false,
    "memoryGiB": 8,
    "name": "ml.m5.large",
    "vcpuNum": 2
   },
   {
    "_defaultOrder": 5,
    "_isFastLaunch": false,
    "category": "General purpose",
    "gpuNum": 0,
    "hideHardwareSpecs": false,
    "memoryGiB": 16,
    "name": "ml.m5.xlarge",
    "vcpuNum": 4
   },
   {
    "_defaultOrder": 6,
    "_isFastLaunch": false,
    "category": "General purpose",
    "gpuNum": 0,
    "hideHardwareSpecs": false,
    "memoryGiB": 32,
    "name": "ml.m5.2xlarge",
    "vcpuNum": 8
   },
   {
    "_defaultOrder": 7,
    "_isFastLaunch": false,
    "category": "General purpose",
    "gpuNum": 0,
    "hideHardwareSpecs": false,
    "memoryGiB": 64,
    "name": "ml.m5.4xlarge",
    "vcpuNum": 16
   },
   {
    "_defaultOrder": 8,
    "_isFastLaunch": false,
    "category": "General purpose",
    "gpuNum": 0,
    "hideHardwareSpecs": false,
    "memoryGiB": 128,
    "name": "ml.m5.8xlarge",
    "vcpuNum": 32
   },
   {
    "_defaultOrder": 9,
    "_isFastLaunch": false,
    "category": "General purpose",
    "gpuNum": 0,
    "hideHardwareSpecs": false,
    "memoryGiB": 192,
    "name": "ml.m5.12xlarge",
    "vcpuNum": 48
   },
   {
    "_defaultOrder": 10,
    "_isFastLaunch": false,
    "category": "General purpose",
    "gpuNum": 0,
    "hideHardwareSpecs": false,
    "memoryGiB": 256,
    "name": "ml.m5.16xlarge",
    "vcpuNum": 64
   },
   {
    "_defaultOrder": 11,
    "_isFastLaunch": false,
    "category": "General purpose",
    "gpuNum": 0,
    "hideHardwareSpecs": false,
    "memoryGiB": 384,
    "name": "ml.m5.24xlarge",
    "vcpuNum": 96
   },
   {
    "_defaultOrder": 12,
    "_isFastLaunch": false,
    "category": "General purpose",
    "gpuNum": 0,
    "hideHardwareSpecs": false,
    "memoryGiB": 8,
    "name": "ml.m5d.large",
    "vcpuNum": 2
   },
   {
    "_defaultOrder": 13,
    "_isFastLaunch": false,
    "category": "General purpose",
    "gpuNum": 0,
    "hideHardwareSpecs": false,
    "memoryGiB": 16,
    "name": "ml.m5d.xlarge",
    "vcpuNum": 4
   },
   {
    "_defaultOrder": 14,
    "_isFastLaunch": false,
    "category": "General purpose",
    "gpuNum": 0,
    "hideHardwareSpecs": false,
    "memoryGiB": 32,
    "name": "ml.m5d.2xlarge",
    "vcpuNum": 8
   },
   {
    "_defaultOrder": 15,
    "_isFastLaunch": false,
    "category": "General purpose",
    "gpuNum": 0,
    "hideHardwareSpecs": false,
    "memoryGiB": 64,
    "name": "ml.m5d.4xlarge",
    "vcpuNum": 16
   },
   {
    "_defaultOrder": 16,
    "_isFastLaunch": false,
    "category": "General purpose",
    "gpuNum": 0,
    "hideHardwareSpecs": false,
    "memoryGiB": 128,
    "name": "ml.m5d.8xlarge",
    "vcpuNum": 32
   },
   {
    "_defaultOrder": 17,
    "_isFastLaunch": false,
    "category": "General purpose",
    "gpuNum": 0,
    "hideHardwareSpecs": false,
    "memoryGiB": 192,
    "name": "ml.m5d.12xlarge",
    "vcpuNum": 48
   },
   {
    "_defaultOrder": 18,
    "_isFastLaunch": false,
    "category": "General purpose",
    "gpuNum": 0,
    "hideHardwareSpecs": false,
    "memoryGiB": 256,
    "name": "ml.m5d.16xlarge",
    "vcpuNum": 64
   },
   {
    "_defaultOrder": 19,
    "_isFastLaunch": false,
    "category": "General purpose",
    "gpuNum": 0,
    "hideHardwareSpecs": false,
    "memoryGiB": 384,
    "name": "ml.m5d.24xlarge",
    "vcpuNum": 96
   },
   {
    "_defaultOrder": 20,
    "_isFastLaunch": false,
    "category": "General purpose",
    "gpuNum": 0,
    "hideHardwareSpecs": true,
    "memoryGiB": 0,
    "name": "ml.geospatial.interactive",
    "supportedImageNames": [
     "sagemaker-geospatial-v1-0"
    ],
    "vcpuNum": 0
   },
   {
    "_defaultOrder": 21,
    "_isFastLaunch": true,
    "category": "Compute optimized",
    "gpuNum": 0,
    "hideHardwareSpecs": false,
    "memoryGiB": 4,
    "name": "ml.c5.large",
    "vcpuNum": 2
   },
   {
    "_defaultOrder": 22,
    "_isFastLaunch": false,
    "category": "Compute optimized",
    "gpuNum": 0,
    "hideHardwareSpecs": false,
    "memoryGiB": 8,
    "name": "ml.c5.xlarge",
    "vcpuNum": 4
   },
   {
    "_defaultOrder": 23,
    "_isFastLaunch": false,
    "category": "Compute optimized",
    "gpuNum": 0,
    "hideHardwareSpecs": false,
    "memoryGiB": 16,
    "name": "ml.c5.2xlarge",
    "vcpuNum": 8
   },
   {
    "_defaultOrder": 24,
    "_isFastLaunch": false,
    "category": "Compute optimized",
    "gpuNum": 0,
    "hideHardwareSpecs": false,
    "memoryGiB": 32,
    "name": "ml.c5.4xlarge",
    "vcpuNum": 16
   },
   {
    "_defaultOrder": 25,
    "_isFastLaunch": false,
    "category": "Compute optimized",
    "gpuNum": 0,
    "hideHardwareSpecs": false,
    "memoryGiB": 72,
    "name": "ml.c5.9xlarge",
    "vcpuNum": 36
   },
   {
    "_defaultOrder": 26,
    "_isFastLaunch": false,
    "category": "Compute optimized",
    "gpuNum": 0,
    "hideHardwareSpecs": false,
    "memoryGiB": 96,
    "name": "ml.c5.12xlarge",
    "vcpuNum": 48
   },
   {
    "_defaultOrder": 27,
    "_isFastLaunch": false,
    "category": "Compute optimized",
    "gpuNum": 0,
    "hideHardwareSpecs": false,
    "memoryGiB": 144,
    "name": "ml.c5.18xlarge",
    "vcpuNum": 72
   },
   {
    "_defaultOrder": 28,
    "_isFastLaunch": false,
    "category": "Compute optimized",
    "gpuNum": 0,
    "hideHardwareSpecs": false,
    "memoryGiB": 192,
    "name": "ml.c5.24xlarge",
    "vcpuNum": 96
   },
   {
    "_defaultOrder": 29,
    "_isFastLaunch": true,
    "category": "Accelerated computing",
    "gpuNum": 1,
    "hideHardwareSpecs": false,
    "memoryGiB": 16,
    "name": "ml.g4dn.xlarge",
    "vcpuNum": 4
   },
   {
    "_defaultOrder": 30,
    "_isFastLaunch": false,
    "category": "Accelerated computing",
    "gpuNum": 1,
    "hideHardwareSpecs": false,
    "memoryGiB": 32,
    "name": "ml.g4dn.2xlarge",
    "vcpuNum": 8
   },
   {
    "_defaultOrder": 31,
    "_isFastLaunch": false,
    "category": "Accelerated computing",
    "gpuNum": 1,
    "hideHardwareSpecs": false,
    "memoryGiB": 64,
    "name": "ml.g4dn.4xlarge",
    "vcpuNum": 16
   },
   {
    "_defaultOrder": 32,
    "_isFastLaunch": false,
    "category": "Accelerated computing",
    "gpuNum": 1,
    "hideHardwareSpecs": false,
    "memoryGiB": 128,
    "name": "ml.g4dn.8xlarge",
    "vcpuNum": 32
   },
   {
    "_defaultOrder": 33,
    "_isFastLaunch": false,
    "category": "Accelerated computing",
    "gpuNum": 4,
    "hideHardwareSpecs": false,
    "memoryGiB": 192,
    "name": "ml.g4dn.12xlarge",
    "vcpuNum": 48
   },
   {
    "_defaultOrder": 34,
    "_isFastLaunch": false,
    "category": "Accelerated computing",
    "gpuNum": 1,
    "hideHardwareSpecs": false,
    "memoryGiB": 256,
    "name": "ml.g4dn.16xlarge",
    "vcpuNum": 64
   },
   {
    "_defaultOrder": 35,
    "_isFastLaunch": false,
    "category": "Accelerated computing",
    "gpuNum": 1,
    "hideHardwareSpecs": false,
    "memoryGiB": 61,
    "name": "ml.p3.2xlarge",
    "vcpuNum": 8
   },
   {
    "_defaultOrder": 36,
    "_isFastLaunch": false,
    "category": "Accelerated computing",
    "gpuNum": 4,
    "hideHardwareSpecs": false,
    "memoryGiB": 244,
    "name": "ml.p3.8xlarge",
    "vcpuNum": 32
   },
   {
    "_defaultOrder": 37,
    "_isFastLaunch": false,
    "category": "Accelerated computing",
    "gpuNum": 8,
    "hideHardwareSpecs": false,
    "memoryGiB": 488,
    "name": "ml.p3.16xlarge",
    "vcpuNum": 64
   },
   {
    "_defaultOrder": 38,
    "_isFastLaunch": false,
    "category": "Accelerated computing",
    "gpuNum": 8,
    "hideHardwareSpecs": false,
    "memoryGiB": 768,
    "name": "ml.p3dn.24xlarge",
    "vcpuNum": 96
   },
   {
    "_defaultOrder": 39,
    "_isFastLaunch": false,
    "category": "Memory Optimized",
    "gpuNum": 0,
    "hideHardwareSpecs": false,
    "memoryGiB": 16,
    "name": "ml.r5.large",
    "vcpuNum": 2
   },
   {
    "_defaultOrder": 40,
    "_isFastLaunch": false,
    "category": "Memory Optimized",
    "gpuNum": 0,
    "hideHardwareSpecs": false,
    "memoryGiB": 32,
    "name": "ml.r5.xlarge",
    "vcpuNum": 4
   },
   {
    "_defaultOrder": 41,
    "_isFastLaunch": false,
    "category": "Memory Optimized",
    "gpuNum": 0,
    "hideHardwareSpecs": false,
    "memoryGiB": 64,
    "name": "ml.r5.2xlarge",
    "vcpuNum": 8
   },
   {
    "_defaultOrder": 42,
    "_isFastLaunch": false,
    "category": "Memory Optimized",
    "gpuNum": 0,
    "hideHardwareSpecs": false,
    "memoryGiB": 128,
    "name": "ml.r5.4xlarge",
    "vcpuNum": 16
   },
   {
    "_defaultOrder": 43,
    "_isFastLaunch": false,
    "category": "Memory Optimized",
    "gpuNum": 0,
    "hideHardwareSpecs": false,
    "memoryGiB": 256,
    "name": "ml.r5.8xlarge",
    "vcpuNum": 32
   },
   {
    "_defaultOrder": 44,
    "_isFastLaunch": false,
    "category": "Memory Optimized",
    "gpuNum": 0,
    "hideHardwareSpecs": false,
    "memoryGiB": 384,
    "name": "ml.r5.12xlarge",
    "vcpuNum": 48
   },
   {
    "_defaultOrder": 45,
    "_isFastLaunch": false,
    "category": "Memory Optimized",
    "gpuNum": 0,
    "hideHardwareSpecs": false,
    "memoryGiB": 512,
    "name": "ml.r5.16xlarge",
    "vcpuNum": 64
   },
   {
    "_defaultOrder": 46,
    "_isFastLaunch": false,
    "category": "Memory Optimized",
    "gpuNum": 0,
    "hideHardwareSpecs": false,
    "memoryGiB": 768,
    "name": "ml.r5.24xlarge",
    "vcpuNum": 96
   },
   {
    "_defaultOrder": 47,
    "_isFastLaunch": false,
    "category": "Accelerated computing",
    "gpuNum": 1,
    "hideHardwareSpecs": false,
    "memoryGiB": 16,
    "name": "ml.g5.xlarge",
    "vcpuNum": 4
   },
   {
    "_defaultOrder": 48,
    "_isFastLaunch": false,
    "category": "Accelerated computing",
    "gpuNum": 1,
    "hideHardwareSpecs": false,
    "memoryGiB": 32,
    "name": "ml.g5.2xlarge",
    "vcpuNum": 8
   },
   {
    "_defaultOrder": 49,
    "_isFastLaunch": false,
    "category": "Accelerated computing",
    "gpuNum": 1,
    "hideHardwareSpecs": false,
    "memoryGiB": 64,
    "name": "ml.g5.4xlarge",
    "vcpuNum": 16
   },
   {
    "_defaultOrder": 50,
    "_isFastLaunch": false,
    "category": "Accelerated computing",
    "gpuNum": 1,
    "hideHardwareSpecs": false,
    "memoryGiB": 128,
    "name": "ml.g5.8xlarge",
    "vcpuNum": 32
   },
   {
    "_defaultOrder": 51,
    "_isFastLaunch": false,
    "category": "Accelerated computing",
    "gpuNum": 1,
    "hideHardwareSpecs": false,
    "memoryGiB": 256,
    "name": "ml.g5.16xlarge",
    "vcpuNum": 64
   },
   {
    "_defaultOrder": 52,
    "_isFastLaunch": false,
    "category": "Accelerated computing",
    "gpuNum": 4,
    "hideHardwareSpecs": false,
    "memoryGiB": 192,
    "name": "ml.g5.12xlarge",
    "vcpuNum": 48
   },
   {
    "_defaultOrder": 53,
    "_isFastLaunch": false,
    "category": "Accelerated computing",
    "gpuNum": 4,
    "hideHardwareSpecs": false,
    "memoryGiB": 384,
    "name": "ml.g5.24xlarge",
    "vcpuNum": 96
   },
   {
    "_defaultOrder": 54,
    "_isFastLaunch": false,
    "category": "Accelerated computing",
    "gpuNum": 8,
    "hideHardwareSpecs": false,
    "memoryGiB": 768,
    "name": "ml.g5.48xlarge",
    "vcpuNum": 192
   },
   {
    "_defaultOrder": 55,
    "_isFastLaunch": false,
    "category": "Accelerated computing",
    "gpuNum": 8,
    "hideHardwareSpecs": false,
    "memoryGiB": 1152,
    "name": "ml.p4d.24xlarge",
    "vcpuNum": 96
   },
   {
    "_defaultOrder": 56,
    "_isFastLaunch": false,
    "category": "Accelerated computing",
    "gpuNum": 8,
    "hideHardwareSpecs": false,
    "memoryGiB": 1152,
    "name": "ml.p4de.24xlarge",
    "vcpuNum": 96
   }
  ],
  "instance_type": "ml.t3.large",
  "kernelspec": {
   "display_name": "Python 3 (ipykernel)",
   "language": "python",
   "name": "python3"
  },
  "language_info": {
   "codemirror_mode": {
    "name": "ipython",
    "version": 3
   },
   "file_extension": ".py",
   "mimetype": "text/x-python",
   "name": "python",
   "nbconvert_exporter": "python",
   "pygments_lexer": "ipython3",
   "version": "3.10.14"
  }
 },
 "nbformat": 4,
 "nbformat_minor": 4
}
